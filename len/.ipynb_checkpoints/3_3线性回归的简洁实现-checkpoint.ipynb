{
 "cells": [
  {
   "cell_type": "code",
   "execution_count": 21,
   "id": "333c6a89",
   "metadata": {},
   "outputs": [],
   "source": [
    "# 生成数据集\n",
    "\n",
    "import numpy as np\n",
    "import torch\n",
    "from torch.utils import data\n",
    "from d2l import torch as d2l\n",
    "\n",
    "true_w = torch.tensor([2, -3.4])\n",
    "true_b = 4.2\n",
    "features, labels = d2l.synthetic_data(true_w, true_b, 1000)"
   ]
  },
  {
   "cell_type": "code",
   "execution_count": 22,
   "id": "f2366e3d",
   "metadata": {},
   "outputs": [],
   "source": [
    "# 读取数据集\n",
    "\n",
    "def load_array(data_arrays, batch_size, is_train=True):  #@save\n",
    "    \"\"\"构造一个PyTorch数据迭代器\"\"\"\n",
    "    dataset = data.TensorDataset(*data_arrays)\n",
    "    return data.DataLoader(dataset, batch_size, shuffle=is_train)\n",
    "\n",
    "batch_size = 10\n",
    "data_iter = load_array((features, labels), batch_size)"
   ]
  },
  {
   "cell_type": "code",
   "execution_count": 23,
   "id": "3979c762",
   "metadata": {},
   "outputs": [
    {
     "data": {
      "text/plain": [
       "[tensor([[-0.1141, -0.5136],\n",
       "         [ 0.2375, -0.5546],\n",
       "         [ 0.8465, -0.8488],\n",
       "         [ 0.2020,  0.6430],\n",
       "         [ 1.2754,  1.8002],\n",
       "         [ 0.1514,  0.1193],\n",
       "         [-0.4412,  0.9569],\n",
       "         [ 0.7724,  1.2862],\n",
       "         [-1.7214,  1.2089],\n",
       "         [ 0.3144, -1.0947]]),\n",
       " tensor([[ 5.7036],\n",
       "         [ 6.5407],\n",
       "         [ 8.7928],\n",
       "         [ 2.4223],\n",
       "         [ 0.6214],\n",
       "         [ 4.0993],\n",
       "         [ 0.0574],\n",
       "         [ 1.3692],\n",
       "         [-3.3506],\n",
       "         [ 8.5491]])]"
      ]
     },
     "execution_count": 23,
     "metadata": {},
     "output_type": "execute_result"
    }
   ],
   "source": [
    "next(iter(data_iter))"
   ]
  },
  {
   "cell_type": "code",
   "execution_count": 24,
   "id": "279a8366",
   "metadata": {},
   "outputs": [],
   "source": [
    "# 定义模型\n",
    "\n",
    "# nn是神经网络的缩写\n",
    "from torch import nn\n",
    "\n",
    "net = nn.Sequential(nn.Linear(2, 1))"
   ]
  },
  {
   "cell_type": "code",
   "execution_count": 25,
   "id": "e50b5a13",
   "metadata": {},
   "outputs": [
    {
     "data": {
      "text/plain": [
       "tensor([0.])"
      ]
     },
     "execution_count": 25,
     "metadata": {},
     "output_type": "execute_result"
    }
   ],
   "source": [
    "# 初始化模型参数\n",
    "\n",
    "net[0].weight.data.normal_(0, 0.01)\n",
    "net[0].bias.data.fill_(0)"
   ]
  },
  {
   "cell_type": "code",
   "execution_count": 26,
   "id": "4517085a",
   "metadata": {},
   "outputs": [],
   "source": [
    "# 定义损失函数\n",
    "\n",
    "loss = nn.MSELoss()"
   ]
  },
  {
   "cell_type": "code",
   "execution_count": 27,
   "id": "5af472ce",
   "metadata": {},
   "outputs": [],
   "source": [
    "# 定义优化算法\n",
    "\n",
    "trainer = torch.optim.SGD(net.parameters(), lr=0.03)"
   ]
  },
  {
   "cell_type": "code",
   "execution_count": 28,
   "id": "fa8c066d",
   "metadata": {},
   "outputs": [
    {
     "name": "stdout",
     "output_type": "stream",
     "text": [
      "epoch 1, loss 0.000158\n",
      "epoch 2, loss 0.000107\n",
      "epoch 3, loss 0.000107\n"
     ]
    }
   ],
   "source": [
    "# 训练\n",
    "\n",
    "num_epochs = 3\n",
    "for epoch in range(num_epochs):\n",
    "    for X, y in data_iter:\n",
    "        # met(X)表示目标函数的输出\n",
    "        l = loss(net(X) ,y)\n",
    "        trainer.zero_grad()\n",
    "        l.backward()\n",
    "        # 自模型更新\n",
    "        trainer.step()\n",
    "    # 打印当前loss\n",
    "    l = loss(net(features), labels)\n",
    "    print(f'epoch {epoch + 1}, loss {l:f}')\n",
    "    "
   ]
  },
  {
   "cell_type": "code",
   "execution_count": 29,
   "id": "c32f0cd3",
   "metadata": {},
   "outputs": [
    {
     "name": "stdout",
     "output_type": "stream",
     "text": [
      "w的估计误差： tensor([-0.0003, -0.0007])\n",
      "b的估计误差： tensor([-0.0002])\n"
     ]
    }
   ],
   "source": [
    "w = net[0].weight.data\n",
    "print('w的估计误差：', true_w - w.reshape(true_w.shape))\n",
    "b = net[0].bias.data\n",
    "print('b的估计误差：', true_b - b)"
   ]
  },
  {
   "cell_type": "code",
   "execution_count": 20,
   "id": "41dd1054",
   "metadata": {},
   "outputs": [
    {
     "name": "stdout",
     "output_type": "stream",
     "text": [
      "\n"
     ]
    }
   ],
   "source": [
    "'''\n",
    "我们可以使用PyTorch的高级API更简洁地实现模型。\n",
    "\n",
    "在PyTorch中，data模块提供了数据处理工具，nn模块定义了大量的神经网络层和常见损失函数。\n",
    "\n",
    "我们可以通过_结尾的方法将参数替换，从而初始化参数。\n",
    "'''\n",
    "print()"
   ]
  },
  {
   "cell_type": "code",
   "execution_count": null,
   "id": "da5d063c",
   "metadata": {},
   "outputs": [],
   "source": []
  }
 ],
 "metadata": {
  "kernelspec": {
   "display_name": "Python [conda env:d2l-zh] *",
   "language": "python",
   "name": "conda-env-d2l-zh-py"
  },
  "language_info": {
   "codemirror_mode": {
    "name": "ipython",
    "version": 3
   },
   "file_extension": ".py",
   "mimetype": "text/x-python",
   "name": "python",
   "nbconvert_exporter": "python",
   "pygments_lexer": "ipython3",
   "version": "3.8.13"
  }
 },
 "nbformat": 4,
 "nbformat_minor": 5
}
